{
 "cells": [
  {
   "cell_type": "code",
   "execution_count": 2,
   "metadata": {},
   "outputs": [],
   "source": [
    "import pandas as pd\n",
    "import matplotlib.pyplot as plt\n",
    "\n",
    "df = pd.read_csv('H05.csv')"
   ]
  },
  {
   "cell_type": "markdown",
   "metadata": {},
   "source": [
    "Problem 1"
   ]
  },
  {
   "cell_type": "code",
   "execution_count": 4,
   "metadata": {},
   "outputs": [
    {
     "data": {
      "text/plain": [
       "5135"
      ]
     },
     "execution_count": 4,
     "metadata": {},
     "output_type": "execute_result"
    }
   ],
   "source": [
    "#Banyaknya data\n",
    "len(df)"
   ]
  },
  {
   "cell_type": "code",
   "execution_count": 41,
   "metadata": {},
   "outputs": [
    {
     "data": {
      "text/html": [
       "<div>\n",
       "<style scoped>\n",
       "    .dataframe tbody tr th:only-of-type {\n",
       "        vertical-align: middle;\n",
       "    }\n",
       "\n",
       "    .dataframe tbody tr th {\n",
       "        vertical-align: top;\n",
       "    }\n",
       "\n",
       "    .dataframe thead th {\n",
       "        text-align: right;\n",
       "    }\n",
       "</style>\n",
       "<table border=\"1\" class=\"dataframe\">\n",
       "  <thead>\n",
       "    <tr style=\"text-align: right;\">\n",
       "      <th></th>\n",
       "      <th>nama</th>\n",
       "      <th>fakultas</th>\n",
       "      <th>nilai_mat</th>\n",
       "      <th>nilai_kim</th>\n",
       "      <th>nilai_fis</th>\n",
       "    </tr>\n",
       "  </thead>\n",
       "  <tbody>\n",
       "    <tr>\n",
       "      <th>0</th>\n",
       "      <td>Farhan Fathur Rahman</td>\n",
       "      <td>FMIPA</td>\n",
       "      <td>57.21</td>\n",
       "      <td>34.14</td>\n",
       "      <td>38.93</td>\n",
       "    </tr>\n",
       "    <tr>\n",
       "      <th>1</th>\n",
       "      <td>Steven Margono</td>\n",
       "      <td>FMIPA</td>\n",
       "      <td>67.43</td>\n",
       "      <td>51.50</td>\n",
       "      <td>57.20</td>\n",
       "    </tr>\n",
       "    <tr>\n",
       "      <th>2</th>\n",
       "      <td>Ryan Sentosa</td>\n",
       "      <td>SAPPK</td>\n",
       "      <td>90.62</td>\n",
       "      <td>37.38</td>\n",
       "      <td>40.73</td>\n",
       "    </tr>\n",
       "    <tr>\n",
       "      <th>3</th>\n",
       "      <td>Muhajah Babny Muslim</td>\n",
       "      <td>FMIPA</td>\n",
       "      <td>72.31</td>\n",
       "      <td>38.80</td>\n",
       "      <td>44.79</td>\n",
       "    </tr>\n",
       "    <tr>\n",
       "      <th>4</th>\n",
       "      <td>Alvin Natawiguna</td>\n",
       "      <td>FTSL</td>\n",
       "      <td>65.45</td>\n",
       "      <td>57.67</td>\n",
       "      <td>56.39</td>\n",
       "    </tr>\n",
       "    <tr>\n",
       "      <th>5</th>\n",
       "      <td>Sasti Safitri</td>\n",
       "      <td>FTSL</td>\n",
       "      <td>60.58</td>\n",
       "      <td>41.91</td>\n",
       "      <td>51.55</td>\n",
       "    </tr>\n",
       "    <tr>\n",
       "      <th>6</th>\n",
       "      <td>Dani Yulianto Putra</td>\n",
       "      <td>FTSL</td>\n",
       "      <td>51.67</td>\n",
       "      <td>35.05</td>\n",
       "      <td>48.69</td>\n",
       "    </tr>\n",
       "    <tr>\n",
       "      <th>7</th>\n",
       "      <td>Nabila Febitsukarizky Bunyamin</td>\n",
       "      <td>FTTM</td>\n",
       "      <td>71.66</td>\n",
       "      <td>67.61</td>\n",
       "      <td>69.75</td>\n",
       "    </tr>\n",
       "    <tr>\n",
       "      <th>8</th>\n",
       "      <td>Ratna Siti Khodijah</td>\n",
       "      <td>FTI</td>\n",
       "      <td>73.06</td>\n",
       "      <td>59.16</td>\n",
       "      <td>59.48</td>\n",
       "    </tr>\n",
       "    <tr>\n",
       "      <th>9</th>\n",
       "      <td>Gita Partiwi</td>\n",
       "      <td>FTSL</td>\n",
       "      <td>69.57</td>\n",
       "      <td>38.84</td>\n",
       "      <td>48.17</td>\n",
       "    </tr>\n",
       "  </tbody>\n",
       "</table>\n",
       "</div>"
      ],
      "text/plain": [
       "                             nama fakultas  nilai_mat  nilai_kim  nilai_fis\n",
       "0            Farhan Fathur Rahman    FMIPA      57.21      34.14      38.93\n",
       "1                  Steven Margono    FMIPA      67.43      51.50      57.20\n",
       "2                    Ryan Sentosa    SAPPK      90.62      37.38      40.73\n",
       "3            Muhajah Babny Muslim    FMIPA      72.31      38.80      44.79\n",
       "4                Alvin Natawiguna     FTSL      65.45      57.67      56.39\n",
       "5                   Sasti Safitri     FTSL      60.58      41.91      51.55\n",
       "6             Dani Yulianto Putra     FTSL      51.67      35.05      48.69\n",
       "7  Nabila Febitsukarizky Bunyamin     FTTM      71.66      67.61      69.75\n",
       "8             Ratna Siti Khodijah      FTI      73.06      59.16      59.48\n",
       "9                    Gita Partiwi     FTSL      69.57      38.84      48.17"
      ]
     },
     "execution_count": 41,
     "metadata": {},
     "output_type": "execute_result"
    }
   ],
   "source": [
    "#10 data pertama\n",
    "df[0:10]"
   ]
  },
  {
   "cell_type": "code",
   "execution_count": 40,
   "metadata": {},
   "outputs": [
    {
     "data": {
      "text/html": [
       "<div>\n",
       "<style scoped>\n",
       "    .dataframe tbody tr th:only-of-type {\n",
       "        vertical-align: middle;\n",
       "    }\n",
       "\n",
       "    .dataframe tbody tr th {\n",
       "        vertical-align: top;\n",
       "    }\n",
       "\n",
       "    .dataframe thead th {\n",
       "        text-align: right;\n",
       "    }\n",
       "</style>\n",
       "<table border=\"1\" class=\"dataframe\">\n",
       "  <thead>\n",
       "    <tr style=\"text-align: right;\">\n",
       "      <th></th>\n",
       "      <th>nama</th>\n",
       "      <th>fakultas</th>\n",
       "      <th>nilai_mat</th>\n",
       "      <th>nilai_kim</th>\n",
       "      <th>nilai_fis</th>\n",
       "    </tr>\n",
       "  </thead>\n",
       "  <tbody>\n",
       "    <tr>\n",
       "      <th>50</th>\n",
       "      <td>Arief Syakur Sutedjo</td>\n",
       "      <td>FTTM</td>\n",
       "      <td>84.40</td>\n",
       "      <td>61.21</td>\n",
       "      <td>73.91</td>\n",
       "    </tr>\n",
       "    <tr>\n",
       "      <th>51</th>\n",
       "      <td>Fayi Raihan Saleh</td>\n",
       "      <td>FMIPA</td>\n",
       "      <td>60.62</td>\n",
       "      <td>32.57</td>\n",
       "      <td>42.34</td>\n",
       "    </tr>\n",
       "    <tr>\n",
       "      <th>52</th>\n",
       "      <td>Erna Kristiawati</td>\n",
       "      <td>FTI</td>\n",
       "      <td>67.48</td>\n",
       "      <td>46.78</td>\n",
       "      <td>52.30</td>\n",
       "    </tr>\n",
       "    <tr>\n",
       "      <th>53</th>\n",
       "      <td>Albert</td>\n",
       "      <td>SAPPK</td>\n",
       "      <td>70.27</td>\n",
       "      <td>50.10</td>\n",
       "      <td>54.01</td>\n",
       "    </tr>\n",
       "    <tr>\n",
       "      <th>54</th>\n",
       "      <td>M Jazztyan Indra Pradana</td>\n",
       "      <td>STEI</td>\n",
       "      <td>53.40</td>\n",
       "      <td>43.06</td>\n",
       "      <td>60.30</td>\n",
       "    </tr>\n",
       "    <tr>\n",
       "      <th>55</th>\n",
       "      <td>Moch Ginanjar Busiri</td>\n",
       "      <td>FMIPA</td>\n",
       "      <td>74.29</td>\n",
       "      <td>38.44</td>\n",
       "      <td>49.15</td>\n",
       "    </tr>\n",
       "    <tr>\n",
       "      <th>56</th>\n",
       "      <td>Aisya Tamara</td>\n",
       "      <td>FITB</td>\n",
       "      <td>71.49</td>\n",
       "      <td>35.86</td>\n",
       "      <td>37.41</td>\n",
       "    </tr>\n",
       "    <tr>\n",
       "      <th>57</th>\n",
       "      <td>Tyas Arum Widayati</td>\n",
       "      <td>SAPPK</td>\n",
       "      <td>68.57</td>\n",
       "      <td>37.02</td>\n",
       "      <td>53.25</td>\n",
       "    </tr>\n",
       "    <tr>\n",
       "      <th>58</th>\n",
       "      <td>Arif Saleh</td>\n",
       "      <td>FTI</td>\n",
       "      <td>100.00</td>\n",
       "      <td>59.79</td>\n",
       "      <td>55.33</td>\n",
       "    </tr>\n",
       "    <tr>\n",
       "      <th>59</th>\n",
       "      <td>Windy Diwita Nisaekti</td>\n",
       "      <td>FTI</td>\n",
       "      <td>67.15</td>\n",
       "      <td>57.72</td>\n",
       "      <td>54.24</td>\n",
       "    </tr>\n",
       "    <tr>\n",
       "      <th>60</th>\n",
       "      <td>Alif Aviano S</td>\n",
       "      <td>STEI</td>\n",
       "      <td>54.11</td>\n",
       "      <td>58.01</td>\n",
       "      <td>73.17</td>\n",
       "    </tr>\n",
       "  </tbody>\n",
       "</table>\n",
       "</div>"
      ],
      "text/plain": [
       "                        nama fakultas  nilai_mat  nilai_kim  nilai_fis\n",
       "50      Arief Syakur Sutedjo     FTTM      84.40      61.21      73.91\n",
       "51         Fayi Raihan Saleh    FMIPA      60.62      32.57      42.34\n",
       "52          Erna Kristiawati      FTI      67.48      46.78      52.30\n",
       "53                    Albert    SAPPK      70.27      50.10      54.01\n",
       "54  M Jazztyan Indra Pradana     STEI      53.40      43.06      60.30\n",
       "55      Moch Ginanjar Busiri    FMIPA      74.29      38.44      49.15\n",
       "56              Aisya Tamara     FITB      71.49      35.86      37.41\n",
       "57        Tyas Arum Widayati    SAPPK      68.57      37.02      53.25\n",
       "58                Arif Saleh      FTI     100.00      59.79      55.33\n",
       "59     Windy Diwita Nisaekti      FTI      67.15      57.72      54.24\n",
       "60             Alif Aviano S     STEI      54.11      58.01      73.17"
      ]
     },
     "execution_count": 40,
     "metadata": {},
     "output_type": "execute_result"
    }
   ],
   "source": [
    "#Data ke-50 sampai ke-60 (inklusif : data ke-50, ....., data ke-60)\n",
    "df[50:61]"
   ]
  },
  {
   "cell_type": "code",
   "execution_count": 4,
   "metadata": {},
   "outputs": [
    {
     "data": {
      "text/plain": [
       "fakultas\n",
       "FTI      834\n",
       "STEI     777\n",
       "FTSL     660\n",
       "FMIPA    627\n",
       "FTTM     579\n",
       "FTMD     480\n",
       "FITB     403\n",
       "SAPPK    315\n",
       "SITHR    282\n",
       "SITHS    178\n",
       "Name: count, dtype: int64"
      ]
     },
     "execution_count": 4,
     "metadata": {},
     "output_type": "execute_result"
    }
   ],
   "source": [
    "#Banyaknya mahasiswa tiap fakultas\n",
    "df['fakultas'].value_counts()"
   ]
  },
  {
   "cell_type": "code",
   "execution_count": 10,
   "metadata": {},
   "outputs": [
    {
     "data": {
      "text/plain": [
       "0.7988187423880274"
      ]
     },
     "execution_count": 10,
     "metadata": {},
     "output_type": "execute_result"
    }
   ],
   "source": [
    "#Nilai korelasi antara nilai fisika dan kimia. Apakah berkolerasi lurus, terbalik, atau tidak berkolerasi? Jelaskan.\n",
    "df[\"nilai_fis\"].corr(df[\"nilai_kim\"])"
   ]
  },
  {
   "cell_type": "markdown",
   "metadata": {},
   "source": [
    "Problem 2"
   ]
  },
  {
   "cell_type": "code",
   "execution_count": 35,
   "metadata": {},
   "outputs": [
    {
     "data": {
      "text/html": [
       "<div>\n",
       "<style scoped>\n",
       "    .dataframe tbody tr th:only-of-type {\n",
       "        vertical-align: middle;\n",
       "    }\n",
       "\n",
       "    .dataframe tbody tr th {\n",
       "        vertical-align: top;\n",
       "    }\n",
       "\n",
       "    .dataframe thead th {\n",
       "        text-align: right;\n",
       "    }\n",
       "</style>\n",
       "<table border=\"1\" class=\"dataframe\">\n",
       "  <thead>\n",
       "    <tr style=\"text-align: right;\">\n",
       "      <th></th>\n",
       "      <th>nama</th>\n",
       "      <th>fakultas</th>\n",
       "      <th>nilai_mat</th>\n",
       "      <th>nilai_kim</th>\n",
       "      <th>nilai_fis</th>\n",
       "    </tr>\n",
       "  </thead>\n",
       "  <tbody>\n",
       "    <tr>\n",
       "      <th>3513</th>\n",
       "      <td>Tuan Ric</td>\n",
       "      <td>STEI</td>\n",
       "      <td>96.78</td>\n",
       "      <td>62.23</td>\n",
       "      <td>30.53</td>\n",
       "    </tr>\n",
       "  </tbody>\n",
       "</table>\n",
       "</div>"
      ],
      "text/plain": [
       "          nama fakultas  nilai_mat  nilai_kim  nilai_fis\n",
       "3513  Tuan Ric     STEI      96.78      62.23      30.53"
      ]
     },
     "execution_count": 35,
     "metadata": {},
     "output_type": "execute_result"
    }
   ],
   "source": [
    "#Nilai matematika, fisika, dan kimia milik Tuan Ric.\n",
    "df.loc[(df[\"nama\"] == \"Tuan Ric\")]"
   ]
  },
  {
   "cell_type": "code",
   "execution_count": 44,
   "metadata": {},
   "outputs": [
    {
     "data": {
      "text/html": [
       "<div>\n",
       "<style scoped>\n",
       "    .dataframe tbody tr th:only-of-type {\n",
       "        vertical-align: middle;\n",
       "    }\n",
       "\n",
       "    .dataframe tbody tr th {\n",
       "        vertical-align: top;\n",
       "    }\n",
       "\n",
       "    .dataframe thead th {\n",
       "        text-align: right;\n",
       "    }\n",
       "</style>\n",
       "<table border=\"1\" class=\"dataframe\">\n",
       "  <thead>\n",
       "    <tr style=\"text-align: right;\">\n",
       "      <th></th>\n",
       "      <th>nama</th>\n",
       "      <th>fakultas</th>\n",
       "      <th>nilai_mat</th>\n",
       "      <th>nilai_kim</th>\n",
       "      <th>nilai_fis</th>\n",
       "    </tr>\n",
       "  </thead>\n",
       "  <tbody>\n",
       "    <tr>\n",
       "      <th>1936</th>\n",
       "      <td>Yuniar Fazriani Rusmana</td>\n",
       "      <td>FITB</td>\n",
       "      <td>53.61</td>\n",
       "      <td>67.19</td>\n",
       "      <td>92.57</td>\n",
       "    </tr>\n",
       "  </tbody>\n",
       "</table>\n",
       "</div>"
      ],
      "text/plain": [
       "                         nama fakultas  nilai_mat  nilai_kim  nilai_fis\n",
       "1936  Yuniar Fazriani Rusmana     FITB      53.61      67.19      92.57"
      ]
     },
     "execution_count": 44,
     "metadata": {},
     "output_type": "execute_result"
    }
   ],
   "source": [
    "#Mahasiswa dengan nilai fisika tertinggi. (jika lebih dari 1, tampilkan semua).\n",
    "max = df['nilai_fis'].max()\n",
    "df.loc[df['nilai_fis']== max]"
   ]
  },
  {
   "cell_type": "code",
   "execution_count": 7,
   "metadata": {},
   "outputs": [
    {
     "data": {
      "text/html": [
       "<div>\n",
       "<style scoped>\n",
       "    .dataframe tbody tr th:only-of-type {\n",
       "        vertical-align: middle;\n",
       "    }\n",
       "\n",
       "    .dataframe tbody tr th {\n",
       "        vertical-align: top;\n",
       "    }\n",
       "\n",
       "    .dataframe thead th {\n",
       "        text-align: right;\n",
       "    }\n",
       "</style>\n",
       "<table border=\"1\" class=\"dataframe\">\n",
       "  <thead>\n",
       "    <tr style=\"text-align: right;\">\n",
       "      <th></th>\n",
       "      <th>nama</th>\n",
       "      <th>fakultas</th>\n",
       "      <th>nilai_mat</th>\n",
       "      <th>nilai_kim</th>\n",
       "      <th>nilai_fis</th>\n",
       "    </tr>\n",
       "  </thead>\n",
       "  <tbody>\n",
       "    <tr>\n",
       "      <th>2554</th>\n",
       "      <td>Faathir Reza Avicena</td>\n",
       "      <td>FTSL</td>\n",
       "      <td>57.12</td>\n",
       "      <td>81.50</td>\n",
       "      <td>78.68</td>\n",
       "    </tr>\n",
       "    <tr>\n",
       "      <th>2779</th>\n",
       "      <td>Dinda A A Z Mundakir</td>\n",
       "      <td>STEI</td>\n",
       "      <td>41.18</td>\n",
       "      <td>81.34</td>\n",
       "      <td>82.60</td>\n",
       "    </tr>\n",
       "    <tr>\n",
       "      <th>3544</th>\n",
       "      <td>Tammya Ayu Purnomo</td>\n",
       "      <td>SITHS</td>\n",
       "      <td>74.49</td>\n",
       "      <td>81.20</td>\n",
       "      <td>78.58</td>\n",
       "    </tr>\n",
       "    <tr>\n",
       "      <th>4934</th>\n",
       "      <td>Alyssa Nadhira Windari</td>\n",
       "      <td>FTMD</td>\n",
       "      <td>78.38</td>\n",
       "      <td>78.83</td>\n",
       "      <td>78.68</td>\n",
       "    </tr>\n",
       "    <tr>\n",
       "      <th>1137</th>\n",
       "      <td>Izni Nur Ibrahim</td>\n",
       "      <td>STEI</td>\n",
       "      <td>56.70</td>\n",
       "      <td>78.46</td>\n",
       "      <td>84.34</td>\n",
       "    </tr>\n",
       "    <tr>\n",
       "      <th>2262</th>\n",
       "      <td>Rinaldi Oky Setiawan</td>\n",
       "      <td>STEI</td>\n",
       "      <td>71.22</td>\n",
       "      <td>77.44</td>\n",
       "      <td>83.66</td>\n",
       "    </tr>\n",
       "    <tr>\n",
       "      <th>4070</th>\n",
       "      <td>Ias Azhari Rezkyarno</td>\n",
       "      <td>FMIPA</td>\n",
       "      <td>62.85</td>\n",
       "      <td>76.90</td>\n",
       "      <td>81.52</td>\n",
       "    </tr>\n",
       "    <tr>\n",
       "      <th>2945</th>\n",
       "      <td>Klara Petra T T</td>\n",
       "      <td>FTSL</td>\n",
       "      <td>73.39</td>\n",
       "      <td>76.61</td>\n",
       "      <td>78.12</td>\n",
       "    </tr>\n",
       "    <tr>\n",
       "      <th>1788</th>\n",
       "      <td>Naudy Germanimo Laksmana</td>\n",
       "      <td>FTMD</td>\n",
       "      <td>62.29</td>\n",
       "      <td>76.38</td>\n",
       "      <td>76.15</td>\n",
       "    </tr>\n",
       "    <tr>\n",
       "      <th>1310</th>\n",
       "      <td>Mardliyahtur Rohmah</td>\n",
       "      <td>STEI</td>\n",
       "      <td>63.15</td>\n",
       "      <td>76.36</td>\n",
       "      <td>74.06</td>\n",
       "    </tr>\n",
       "  </tbody>\n",
       "</table>\n",
       "</div>"
      ],
      "text/plain": [
       "                          nama fakultas  nilai_mat  nilai_kim  nilai_fis\n",
       "2554      Faathir Reza Avicena     FTSL      57.12      81.50      78.68\n",
       "2779      Dinda A A Z Mundakir     STEI      41.18      81.34      82.60\n",
       "3544        Tammya Ayu Purnomo    SITHS      74.49      81.20      78.58\n",
       "4934    Alyssa Nadhira Windari     FTMD      78.38      78.83      78.68\n",
       "1137          Izni Nur Ibrahim     STEI      56.70      78.46      84.34\n",
       "2262      Rinaldi Oky Setiawan     STEI      71.22      77.44      83.66\n",
       "4070      Ias Azhari Rezkyarno    FMIPA      62.85      76.90      81.52\n",
       "2945           Klara Petra T T     FTSL      73.39      76.61      78.12\n",
       "1788  Naudy Germanimo Laksmana     FTMD      62.29      76.38      76.15\n",
       "1310       Mardliyahtur Rohmah     STEI      63.15      76.36      74.06"
      ]
     },
     "execution_count": 7,
     "metadata": {},
     "output_type": "execute_result"
    }
   ],
   "source": [
    "#10 Mahasiswa dengan nilai kimia tertinggi\n",
    "df.sort_values([\"nilai_kim\"], ascending=[0])[0:10]\n"
   ]
  },
  {
   "cell_type": "code",
   "execution_count": 9,
   "metadata": {},
   "outputs": [
    {
     "data": {
      "text/plain": [
       "329"
      ]
     },
     "execution_count": 9,
     "metadata": {},
     "output_type": "execute_result"
    }
   ],
   "source": [
    "#Banyaknya nilai matematika di bawah 50\n",
    "len(df.loc[df[\"nilai_mat\"]<50])"
   ]
  },
  {
   "cell_type": "code",
   "execution_count": 10,
   "metadata": {},
   "outputs": [
    {
     "data": {
      "text/plain": [
       "627"
      ]
     },
     "execution_count": 10,
     "metadata": {},
     "output_type": "execute_result"
    }
   ],
   "source": [
    "#Banyaknya mahasiswa FMIPA\n",
    "len(df.loc[df[\"fakultas\"] == \"FMIPA\"])"
   ]
  },
  {
   "cell_type": "markdown",
   "metadata": {},
   "source": [
    "PROBLEM 3"
   ]
  },
  {
   "cell_type": "code",
   "execution_count": 3,
   "metadata": {},
   "outputs": [],
   "source": [
    "import pandas as pd\n",
    "import matplotlib.pyplot as plt\n",
    "\n",
    "df = pd.read_csv(\"H05.csv\")"
   ]
  },
  {
   "cell_type": "code",
   "execution_count": 4,
   "metadata": {},
   "outputs": [
    {
     "data": {
      "text/plain": [
       "<Axes: ylabel='Frequency'>"
      ]
     },
     "execution_count": 4,
     "metadata": {},
     "output_type": "execute_result"
    },
    {
     "data": {
      "image/png": "[encoded data removed]",
      "text/plain": [
       "<Figure size 640x480 with 1 Axes>"
      ]
     },
     "metadata": {},
     "output_type": "display_data"
    }
   ],
   "source": [
    "#Histogram distribusi nilai matematika.\n",
    "df[[\"nilai_mat\"]].plot(kind=\"hist\", bins=[0,10,20,30,40,50,60,70,80,90,100], rwidth=1)"
   ]
  },
  {
   "cell_type": "code",
   "execution_count": 36,
   "metadata": {},
   "outputs": [
    {
     "data": {
      "text/plain": [
       "<Axes: title={'center': 'Persebaran Mahasiswa Berdasarkan Fakultas'}, xlabel='Fakultas', ylabel='Frekuensi'>"
      ]
     },
     "execution_count": 36,
     "metadata": {},
     "output_type": "execute_result"
    },
    {
     "data": {
      "image/png": "[encoded data removed]",
      "text/plain": [
       "<Figure size 640x480 with 1 Axes>"
      ]
     },
     "metadata": {},
     "output_type": "display_data"
    }
   ],
   "source": [
    "#Diagram batang horizontal banyaknya mahasiswa masing-masing fakultas.\n",
    "df['fakultas'].value_counts().plot(kind=\"bar\", title=\"Persebaran Mahasiswa Berdasarkan Fakultas\",xlabel=\"Fakultas\", ylabel='Frekuensi')"
   ]
  },
  {
   "cell_type": "code",
   "execution_count": 39,
   "metadata": {},
   "outputs": [
    {
     "data": {
      "text/plain": [
       "<Axes: title={'center': 'Persebaran Mahasiswa Berdasarkan Fakultas'}>"
      ]
     },
     "execution_count": 39,
     "metadata": {},
     "output_type": "execute_result"
    },
    {
     "data": {
      "image/png": "[encoded data removed]",
      "text/plain": [
       "<Figure size 640x480 with 1 Axes>"
      ]
     },
     "metadata": {},
     "output_type": "display_data"
    }
   ],
   "source": [
    "#Diagram pie banyaknya mahasiswa masing-masing fakultas \n",
    "df['fakultas'].value_counts().plot(kind=\"pie\", ylabel=\"\", title=\"Persebaran Mahasiswa Berdasarkan Fakultas\")"
   ]
  },
  {
   "cell_type": "code",
   "execution_count": 41,
   "metadata": {},
   "outputs": [
    {
     "data": {
      "text/plain": [
       "<Axes: title={'center': 'Korelasi Nilai Kimia dengan Nilai Fisika'}, xlabel='Nilai Kimia', ylabel='Nilai Fisika'>"
      ]
     },
     "execution_count": 41,
     "metadata": {},
     "output_type": "execute_result"
    },
    {
     "data": {
      "image/png": "[encoded data removed]",
      "text/plain": [
       "<Figure size 640x480 with 1 Axes>"
      ]
     },
     "metadata": {},
     "output_type": "display_data"
    }
   ],
   "source": [
    "df.plot(kind=\"scatter\", x=\"nilai_kim\", y=\"nilai_fis\", xlabel= 'Nilai Kimia', ylabel='Nilai Fisika',title='Korelasi Nilai Kimia dengan Nilai Fisika')\n"
   ]
  }
 ],
 "metadata": {
  "kernelspec": {
   "display_name": "Python 3",
   "language": "python",
   "name": "python3"
  },
  "language_info": {
   "codemirror_mode": {
    "name": "ipython",
    "version": 3
   },
   "file_extension": ".py",
   "mimetype": "text/x-python",
   "name": "python",
   "nbconvert_exporter": "python",
   "pygments_lexer": "ipython3",
   "version": "3.12.3"
  }
 },
 "nbformat": 4,
 "nbformat_minor": 2
}
